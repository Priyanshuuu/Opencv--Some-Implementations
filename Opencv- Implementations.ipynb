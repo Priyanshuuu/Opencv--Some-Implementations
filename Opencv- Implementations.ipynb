{
 "cells": [
  {
   "cell_type": "code",
   "execution_count": null,
   "metadata": {},
   "outputs": [],
   "source": [
    "# To detect a selected image in a orignal image \n",
    "\n",
    "\n",
    "image = cv2.imread(r'C:\\Users\\PRIYANSHU PANDEY\\Pictures\\Aviary Photos\\Aviary Stock Photo 2.png')\n",
    "                \n",
    "template = cv2.imread(r'C:\\Users\\PRIYANSHU PANDEY\\Pictures\\Aviary Photos\\OP.png')\n",
    "\n",
    "gray_image = cv2.imread(r'C:\\Users\\PRIYANSHU PANDEY\\Pictures\\Aviary Photos\\Aviary Stock Photo 2.png',0)\n",
    "                \n",
    "gray_template = cv2.imread(r'C:\\Users\\PRIYANSHU PANDEY\\Pictures\\Aviary Photos\\OP.png',0)\n",
    "\n",
    "w, h = gray_template.shape[::-1]\n",
    "\n",
    "result = cv2.matchTemplate(gray_image, gray_template, method = cv2.TM_CCOEFF)\n",
    "min_val, max_val, min_loc, max_loc = cv2.minMaxLoc(result)\n",
    "\n",
    "top_left = max_loc\n",
    "bottom_right = (top_left[0] + w, top_left[1] + h)\n",
    "\n",
    "cv2.rectangle(image, top_left, bottom_right,(0,255,0),3)\n",
    "\n",
    "cv2.imshow('image',image)\n",
    "\n",
    "\n",
    "cv2.waitKey(0)\n",
    "cv2.destroyAllWindows()"
   ]
  },
  {
   "cell_type": "code",
   "execution_count": null,
   "metadata": {},
   "outputs": [],
   "source": []
  },
  {
   "cell_type": "code",
   "execution_count": null,
   "metadata": {},
   "outputs": [],
   "source": [
    "# To blurred the image \n",
    "\n",
    "import cv2\n",
    "import numpy as np\n",
    "\n",
    "image = cv2.imread(r'C:\\Users\\PRIYANSHU PANDEY\\Pictures\\Aviary Photos\\Aviary Stock Photo 2.png')\n",
    "\n",
    "kernel = np.ones((12,12),np.float32)/144\n",
    "\n",
    "dist = cv2.filter2D(image,-1,kernel)\n",
    "\n",
    "cv2.imshow('orignal', image)\n",
    "cv2.imshow('blurred', dist)\n",
    "\n",
    "cv2.waitKey(0)\n",
    "cv2.destroyAllWindows()"
   ]
  },
  {
   "cell_type": "code",
   "execution_count": null,
   "metadata": {},
   "outputs": [],
   "source": []
  },
  {
   "cell_type": "code",
   "execution_count": null,
   "metadata": {},
   "outputs": [],
   "source": [
    "# Edge Detecter\n",
    "\n",
    "import cv2\n",
    "import numpy as np\n",
    "\n",
    "image = cv2.imread(r'C:\\Users\\PRIYANSHU PANDEY\\Pictures\\Aviary Photos\\Aviary Stock Photo 2.png',0)\n",
    "\n",
    "threshold1 = 100\n",
    "threshold2 = 200\n",
    "\n",
    "edge_img = cv2.Canny(image, threshold1, threshold2)\n",
    "\n",
    "cv2.imshow('edge image',edge_img)\n",
    "\n",
    "cv2.waitKey(0)\n",
    "cv2.destroyAllWindows()\n"
   ]
  },
  {
   "cell_type": "code",
   "execution_count": null,
   "metadata": {},
   "outputs": [],
   "source": []
  },
  {
   "cell_type": "code",
   "execution_count": null,
   "metadata": {},
   "outputs": [],
   "source": []
  },
  {
   "cell_type": "code",
   "execution_count": null,
   "metadata": {},
   "outputs": [],
   "source": []
  },
  {
   "cell_type": "code",
   "execution_count": null,
   "metadata": {},
   "outputs": [],
   "source": []
  },
  {
   "cell_type": "code",
   "execution_count": null,
   "metadata": {},
   "outputs": [],
   "source": []
  }
 ],
 "metadata": {
  "kernelspec": {
   "display_name": "Python 3",
   "language": "python",
   "name": "python3"
  },
  "language_info": {
   "codemirror_mode": {
    "name": "ipython",
    "version": 3
   },
   "file_extension": ".py",
   "mimetype": "text/x-python",
   "name": "python",
   "nbconvert_exporter": "python",
   "pygments_lexer": "ipython3",
   "version": "3.5.6"
  }
 },
 "nbformat": 4,
 "nbformat_minor": 2
}
